{
 "cells": [
  {
   "cell_type": "markdown",
   "metadata": {
    "id": "o8oWcD6sruUs"
   },
   "source": [
    "# NPCI MLOps Playground Challenge - 4 \n",
    "\n",
    "[Total: 20 Marks]"
   ]
  },
  {
   "cell_type": "markdown",
   "metadata": {
    "id": "1RodUx5nscY1"
   },
   "source": [
    "## Problem Statement \n",
    "\n",
    "Develop a machine learning model that predicts the likelihood of a borrower defaulting on a loan based on factors such as credit history, repayment capacity, and annual income. This model aims to assist financial institutions in assessing the potential financial impact of credit risk and making informed lending decisions."
   ]
  },
  {
   "cell_type": "markdown",
   "metadata": {
    "id": "BydFYr4d-ZZY"
   },
   "source": [
    "## Credit Risk Prediction\n",
    "\n",
    "Credit Risk refers to the likelihood of a borrower failing to repay a loan, leading to potential financial losses for the lender. When financial institutions extend services like mortgages, credit cards, or personal loans, there exists an inherent risk that the borrower may default on their repayment obligations. To evaluate this risk, factors like credit history, repayment capacity, loan terms, and annual income can be considered.\n",
    "\n",
    "Many companies, especially financial institutions, evaluate the credit risk of their existing and forthcoming customers. With the advent of technologies like machine learning, organizations can analyze customer data to establish a risk profile. Credit risk modeling evaluates a borrower's credit risk based primarily on two factors. The first factor is determining the probability of a borrower defaulting on a loan, while the second factor involves evaluating the financial impact on the lender in case of such a default.\n",
    "\n"
   ]
  },
  {
   "cell_type": "markdown",
   "metadata": {
    "id": "G09nMTuT0C5O"
   },
   "source": [
    "## Dataset Description\n",
    "\n",
    "The dataset you'll be working with is the Credit Risk dataset, which includes the following features:\n",
    "\n",
    "* **person_age** - Age\n",
    "* **person_income** - Annual Income\n",
    "* **person_home_ownership** - Home ownership\n",
    "* **person_emp_length** - Employment length (in years)\n",
    "* **loan_intent** - Loan intent\n",
    "* **loan_grade** - Loan grade\n",
    "* **loan_amnt** - Loan amount\n",
    "* **loan_int_rate** - Interest rate\n",
    "* **loan_status** - Loan status (0 is non default 1 is default)\n",
    "* **loan_percent_income** - Percent income\n",
    "* **cb_person_default_on_file** - Historical default\n",
    "* **cb_preson_cred_hist_length** - Credit history length\n"
   ]
  },
  {
   "cell_type": "markdown",
   "metadata": {
    "id": "AUs6CBWi0um5"
   },
   "source": [
    "### Importing required packages  [1 Mark]\n"
   ]
  },
  {
   "cell_type": "code",
   "execution_count": 36,
   "metadata": {
    "id": "0Ua1j5P97nDi"
   },
   "outputs": [],
   "source": [
    "# ToDo\n",
    "import pandas as pd\n",
    "import numpy as np\n",
    "\n"
   ]
  },
  {
   "cell_type": "markdown",
   "metadata": {
    "id": "yIYAZEeF7aQo"
   },
   "source": [
    "### Loading the data  [1 Mark]"
   ]
  },
  {
   "cell_type": "code",
   "execution_count": 37,
   "metadata": {
    "id": "5g-3iZWf79ei"
   },
   "outputs": [
    {
     "name": "stdout",
     "output_type": "stream",
     "text": [
      "   person_age  person_income person_home_ownership  person_emp_length  \\\n",
      "0          22          59000                  RENT              123.0   \n",
      "1          21           9600                   OWN                5.0   \n",
      "2          25           9600              MORTGAGE                1.0   \n",
      "3          23          65500                  RENT                4.0   \n",
      "4          24          54400                  RENT                8.0   \n",
      "\n",
      "  loan_intent loan_grade  loan_amnt  loan_int_rate  loan_status  \\\n",
      "0    PERSONAL          D      35000          16.02            1   \n",
      "1   EDUCATION          B       1000          11.14            0   \n",
      "2     MEDICAL          C       5500          12.87            1   \n",
      "3     MEDICAL          C      35000          15.23            1   \n",
      "4     MEDICAL          C      35000          14.27            1   \n",
      "\n",
      "   loan_percent_income cb_person_default_on_file  cb_person_cred_hist_length  \n",
      "0                 0.59                         Y                           3  \n",
      "1                 0.10                         N                           2  \n",
      "2                 0.57                         N                           3  \n",
      "3                 0.53                         N                           2  \n",
      "4                 0.55                         Y                           4  \n",
      "<class 'pandas.core.frame.DataFrame'>\n",
      "RangeIndex: 32581 entries, 0 to 32580\n",
      "Data columns (total 12 columns):\n",
      " #   Column                      Non-Null Count  Dtype  \n",
      "---  ------                      --------------  -----  \n",
      " 0   person_age                  32581 non-null  int64  \n",
      " 1   person_income               32581 non-null  int64  \n",
      " 2   person_home_ownership       32581 non-null  object \n",
      " 3   person_emp_length           31686 non-null  float64\n",
      " 4   loan_intent                 32581 non-null  object \n",
      " 5   loan_grade                  32581 non-null  object \n",
      " 6   loan_amnt                   32581 non-null  int64  \n",
      " 7   loan_int_rate               29465 non-null  float64\n",
      " 8   loan_status                 32581 non-null  int64  \n",
      " 9   loan_percent_income         32581 non-null  float64\n",
      " 10  cb_person_default_on_file   32581 non-null  object \n",
      " 11  cb_person_cred_hist_length  32581 non-null  int64  \n",
      "dtypes: float64(3), int64(5), object(4)\n",
      "memory usage: 3.0+ MB\n",
      "None\n"
     ]
    }
   ],
   "source": [
    "# First upload the provided `credit_risk_dataset.csv` then load it as pandas dataframe\n",
    "# ToDo\n",
    "\n",
    "df = pd.read_csv('/workspaces/npci-mlops-playground-challenge-4-mrdhanush789/credit_risk_dataset.csv')  \n",
    "\n",
    "print(df.head())\n",
    "\n",
    "print(df.info())"
   ]
  },
  {
   "cell_type": "markdown",
   "metadata": {
    "id": "hUJOesoM-ZYg"
   },
   "source": [
    "### EDA [2 Marks] \n",
    "\n",
    "Explore the data, understand the features and handle the missing values."
   ]
  },
  {
   "cell_type": "code",
   "execution_count": 38,
   "metadata": {
    "id": "s9cYFWwN7ZYu"
   },
   "outputs": [
    {
     "name": "stdout",
     "output_type": "stream",
     "text": [
      "         person_age  person_income  person_emp_length     loan_amnt  \\\n",
      "count  32581.000000   3.258100e+04       31686.000000  32581.000000   \n",
      "mean      27.734600   6.607485e+04           4.789686   9589.371106   \n",
      "std        6.348078   6.198312e+04           4.142630   6322.086646   \n",
      "min       20.000000   4.000000e+03           0.000000    500.000000   \n",
      "25%       23.000000   3.850000e+04           2.000000   5000.000000   \n",
      "50%       26.000000   5.500000e+04           4.000000   8000.000000   \n",
      "75%       30.000000   7.920000e+04           7.000000  12200.000000   \n",
      "max      144.000000   6.000000e+06         123.000000  35000.000000   \n",
      "\n",
      "       loan_int_rate   loan_status  loan_percent_income  \\\n",
      "count   29465.000000  32581.000000         32581.000000   \n",
      "mean       11.011695      0.218164             0.170203   \n",
      "std         3.240459      0.413006             0.106782   \n",
      "min         5.420000      0.000000             0.000000   \n",
      "25%         7.900000      0.000000             0.090000   \n",
      "50%        10.990000      0.000000             0.150000   \n",
      "75%        13.470000      0.000000             0.230000   \n",
      "max        23.220000      1.000000             0.830000   \n",
      "\n",
      "       cb_person_cred_hist_length  \n",
      "count                32581.000000  \n",
      "mean                     5.804211  \n",
      "std                      4.055001  \n",
      "min                      2.000000  \n",
      "25%                      3.000000  \n",
      "50%                      4.000000  \n",
      "75%                      8.000000  \n",
      "max                     30.000000  \n",
      "person_age                       0\n",
      "person_income                    0\n",
      "person_home_ownership            0\n",
      "person_emp_length              895\n",
      "loan_intent                      0\n",
      "loan_grade                       0\n",
      "loan_amnt                        0\n",
      "loan_int_rate                 3116\n",
      "loan_status                      0\n",
      "loan_percent_income              0\n",
      "cb_person_default_on_file        0\n",
      "cb_person_cred_hist_length       0\n",
      "dtype: int64\n"
     ]
    }
   ],
   "source": [
    "# Get the shape of the dataframe\n",
    "# ToDo\n",
    "print(df.describe())\n",
    "\n",
    "print(df.isnull().sum())"
   ]
  },
  {
   "cell_type": "code",
   "execution_count": 39,
   "metadata": {
    "id": "5BEmlWRL8Vad"
   },
   "outputs": [
    {
     "name": "stdout",
     "output_type": "stream",
     "text": [
      "   person_age  person_income person_home_ownership  person_emp_length  \\\n",
      "0          22          59000                  RENT              123.0   \n",
      "1          21           9600                   OWN                5.0   \n",
      "2          25           9600              MORTGAGE                1.0   \n",
      "3          23          65500                  RENT                4.0   \n",
      "4          24          54400                  RENT                8.0   \n",
      "\n",
      "  loan_intent loan_grade  loan_amnt  loan_int_rate  loan_status  \\\n",
      "0    PERSONAL          D      35000          16.02            1   \n",
      "1   EDUCATION          B       1000          11.14            0   \n",
      "2     MEDICAL          C       5500          12.87            1   \n",
      "3     MEDICAL          C      35000          15.23            1   \n",
      "4     MEDICAL          C      35000          14.27            1   \n",
      "\n",
      "   loan_percent_income cb_person_default_on_file  cb_person_cred_hist_length  \n",
      "0                 0.59                         Y                           3  \n",
      "1                 0.10                         N                           2  \n",
      "2                 0.57                         N                           3  \n",
      "3                 0.53                         N                           2  \n",
      "4                 0.55                         Y                           4  \n",
      "   person_age  person_income person_home_ownership  person_emp_length  \\\n",
      "0          22          59000                  RENT              123.0   \n",
      "1          21           9600                   OWN                5.0   \n",
      "2          25           9600              MORTGAGE                1.0   \n",
      "3          23          65500                  RENT                4.0   \n",
      "4          24          54400                  RENT                8.0   \n",
      "\n",
      "  loan_intent loan_grade  loan_amnt  loan_int_rate  loan_status  \\\n",
      "0    PERSONAL          D      35000          16.02            1   \n",
      "1   EDUCATION          B       1000          11.14            0   \n",
      "2     MEDICAL          C       5500          12.87            1   \n",
      "3     MEDICAL          C      35000          15.23            1   \n",
      "4     MEDICAL          C      35000          14.27            1   \n",
      "\n",
      "   loan_percent_income cb_person_default_on_file  cb_person_cred_hist_length  \n",
      "0                 0.59                         Y                           3  \n",
      "1                 0.10                         N                           2  \n",
      "2                 0.57                         N                           3  \n",
      "3                 0.53                         N                           2  \n",
      "4                 0.55                         Y                           4  \n"
     ]
    }
   ],
   "source": [
    "# Display few rows of the dataframe\n",
    "# ToDo\n",
    "print(df.head())\n",
    "\n",
    "print(df.head(5))"
   ]
  },
  {
   "cell_type": "code",
   "execution_count": 40,
   "metadata": {
    "id": "2vA5UhTG8YEa"
   },
   "outputs": [
    {
     "name": "stdout",
     "output_type": "stream",
     "text": [
      "         person_age  person_income  person_emp_length     loan_amnt  \\\n",
      "count  32581.000000   3.258100e+04       31686.000000  32581.000000   \n",
      "mean      27.734600   6.607485e+04           4.789686   9589.371106   \n",
      "std        6.348078   6.198312e+04           4.142630   6322.086646   \n",
      "min       20.000000   4.000000e+03           0.000000    500.000000   \n",
      "25%       23.000000   3.850000e+04           2.000000   5000.000000   \n",
      "50%       26.000000   5.500000e+04           4.000000   8000.000000   \n",
      "75%       30.000000   7.920000e+04           7.000000  12200.000000   \n",
      "max      144.000000   6.000000e+06         123.000000  35000.000000   \n",
      "\n",
      "       loan_int_rate   loan_status  loan_percent_income  \\\n",
      "count   29465.000000  32581.000000         32581.000000   \n",
      "mean       11.011695      0.218164             0.170203   \n",
      "std         3.240459      0.413006             0.106782   \n",
      "min         5.420000      0.000000             0.000000   \n",
      "25%         7.900000      0.000000             0.090000   \n",
      "50%        10.990000      0.000000             0.150000   \n",
      "75%        13.470000      0.000000             0.230000   \n",
      "max        23.220000      1.000000             0.830000   \n",
      "\n",
      "       cb_person_cred_hist_length  \n",
      "count                32581.000000  \n",
      "mean                     5.804211  \n",
      "std                      4.055001  \n",
      "min                      2.000000  \n",
      "25%                      3.000000  \n",
      "50%                      4.000000  \n",
      "75%                      8.000000  \n",
      "max                     30.000000  \n"
     ]
    }
   ],
   "source": [
    "# Generate descriptive statistics for the DataFrame, to get summary statistics for numerical columns.\n",
    "# ToDo\n",
    "print(df.describe())"
   ]
  },
  {
   "cell_type": "code",
   "execution_count": 41,
   "metadata": {
    "id": "3VApgDn28h0u"
   },
   "outputs": [
    {
     "name": "stdout",
     "output_type": "stream",
     "text": [
      "<class 'pandas.core.frame.DataFrame'>\n",
      "RangeIndex: 32581 entries, 0 to 32580\n",
      "Data columns (total 12 columns):\n",
      " #   Column                      Non-Null Count  Dtype  \n",
      "---  ------                      --------------  -----  \n",
      " 0   person_age                  32581 non-null  int64  \n",
      " 1   person_income               32581 non-null  int64  \n",
      " 2   person_home_ownership       32581 non-null  object \n",
      " 3   person_emp_length           31686 non-null  float64\n",
      " 4   loan_intent                 32581 non-null  object \n",
      " 5   loan_grade                  32581 non-null  object \n",
      " 6   loan_amnt                   32581 non-null  int64  \n",
      " 7   loan_int_rate               29465 non-null  float64\n",
      " 8   loan_status                 32581 non-null  int64  \n",
      " 9   loan_percent_income         32581 non-null  float64\n",
      " 10  cb_person_default_on_file   32581 non-null  object \n",
      " 11  cb_person_cred_hist_length  32581 non-null  int64  \n",
      "dtypes: float64(3), int64(5), object(4)\n",
      "memory usage: 3.0+ MB\n"
     ]
    }
   ],
   "source": [
    "# Generate information about the DataFrame, including index details, column data types, and non-null values.\n",
    "# ToDo\n",
    "df.info()"
   ]
  },
  {
   "cell_type": "markdown",
   "metadata": {
    "id": "h2K7-WqNCzT3"
   },
   "source": [
    "### Data Preprocessing"
   ]
  },
  {
   "cell_type": "markdown",
   "metadata": {
    "id": "8k8WmqIBBEui"
   },
   "source": [
    "#### Handling Missing values  [1 Mark]"
   ]
  },
  {
   "cell_type": "code",
   "execution_count": 42,
   "metadata": {
    "id": "9yindfUN8i50"
   },
   "outputs": [
    {
     "name": "stdout",
     "output_type": "stream",
     "text": [
      "person_age                       0\n",
      "person_income                    0\n",
      "person_home_ownership            0\n",
      "person_emp_length              895\n",
      "loan_intent                      0\n",
      "loan_grade                       0\n",
      "loan_amnt                        0\n",
      "loan_int_rate                 3116\n",
      "loan_status                      0\n",
      "loan_percent_income              0\n",
      "cb_person_default_on_file        0\n",
      "cb_person_cred_hist_length       0\n",
      "dtype: int64\n"
     ]
    }
   ],
   "source": [
    "# Display the total number of null values of each column\n",
    "# ToDo\n",
    "print(df.isnull().sum())"
   ]
  },
  {
   "cell_type": "markdown",
   "metadata": {
    "id": "hE4Cf73ABedq"
   },
   "source": [
    "Columns **person_emp_length** and **loan_int_rate** have null values.\n",
    "Handle them by replacing the missing values with the mean of the respective columns.\n"
   ]
  },
  {
   "cell_type": "code",
   "execution_count": 43,
   "metadata": {
    "id": "0U4rQoKo8l9L"
   },
   "outputs": [
    {
     "name": "stdout",
     "output_type": "stream",
     "text": [
      "person_age                    0\n",
      "person_income                 0\n",
      "person_home_ownership         0\n",
      "person_emp_length             0\n",
      "loan_intent                   0\n",
      "loan_grade                    0\n",
      "loan_amnt                     0\n",
      "loan_int_rate                 0\n",
      "loan_status                   0\n",
      "loan_percent_income           0\n",
      "cb_person_default_on_file     0\n",
      "cb_person_cred_hist_length    0\n",
      "dtype: int64\n"
     ]
    },
    {
     "name": "stderr",
     "output_type": "stream",
     "text": [
      "/tmp/ipykernel_12919/1637824553.py:6: FutureWarning: A value is trying to be set on a copy of a DataFrame or Series through chained assignment using an inplace method.\n",
      "The behavior will change in pandas 3.0. This inplace method will never work because the intermediate object on which we are setting values always behaves as a copy.\n",
      "\n",
      "For example, when doing 'df[col].method(value, inplace=True)', try using 'df.method({col: value}, inplace=True)' or df[col] = df[col].method(value) instead, to perform the operation inplace on the original object.\n",
      "\n",
      "\n",
      "  df[col].fillna(df[col].mean(), inplace=True)\n"
     ]
    }
   ],
   "source": [
    "# Handle missing values - replace the missing values with the mean value of that numerical feature\n",
    "# ToDo\n",
    "numerical_cols = df.select_dtypes(include=['float64', 'int64']).columns\n",
    "\n",
    "for col in numerical_cols:\n",
    "    df[col].fillna(df[col].mean(), inplace=True)\n",
    "\n",
    "print(df.isnull().sum())"
   ]
  },
  {
   "cell_type": "markdown",
   "metadata": {
    "id": "TcY-K5XwC6Hn"
   },
   "source": [
    "#### Handling categorical columns [3 Marks]"
   ]
  },
  {
   "cell_type": "code",
   "execution_count": 44,
   "metadata": {
    "id": "BByZ-fJg_AHt"
   },
   "outputs": [
    {
     "name": "stdout",
     "output_type": "stream",
     "text": [
      "Index(['person_home_ownership', 'loan_intent', 'loan_grade',\n",
      "       'cb_person_default_on_file'],\n",
      "      dtype='object')\n"
     ]
    }
   ],
   "source": [
    "# Check for categorical columns\n",
    "# ToDo\n",
    "categorical_cols = df.select_dtypes(include=['object']).columns\n",
    "\n",
    "print(categorical_cols)"
   ]
  },
  {
   "cell_type": "code",
   "execution_count": 45,
   "metadata": {
    "id": "O6YVzrJuAGRX"
   },
   "outputs": [
    {
     "name": "stdout",
     "output_type": "stream",
     "text": [
      "Distinct categories in 'person_home_ownership':\n",
      "['RENT' 'OWN' 'MORTGAGE' 'OTHER']\n",
      "\n",
      "Distinct categories in 'loan_intent':\n",
      "['PERSONAL' 'EDUCATION' 'MEDICAL' 'VENTURE' 'HOMEIMPROVEMENT'\n",
      " 'DEBTCONSOLIDATION']\n",
      "\n",
      "Distinct categories in 'loan_grade':\n",
      "['D' 'B' 'C' 'A' 'E' 'F' 'G']\n",
      "\n",
      "Distinct categories in 'cb_person_default_on_file':\n",
      "['Y' 'N']\n",
      "\n"
     ]
    }
   ],
   "source": [
    "# Get the distinct categories present in each categorical column\n",
    "# ToDo\n",
    "for col in categorical_cols:\n",
    "    print(f\"Distinct categories in '{col}':\")\n",
    "    print(df[col].unique())\n",
    "    print()"
   ]
  },
  {
   "cell_type": "code",
   "execution_count": 46,
   "metadata": {
    "id": "Nvb41TFsAW5b"
   },
   "outputs": [
    {
     "name": "stdout",
     "output_type": "stream",
     "text": [
      "\n",
      "Updated DataFrame with LabelEncoder applied:\n",
      "   person_age  person_income  person_home_ownership  person_emp_length  \\\n",
      "0          22          59000                      3              123.0   \n",
      "1          21           9600                      2                5.0   \n",
      "2          25           9600                      0                1.0   \n",
      "3          23          65500                      3                4.0   \n",
      "4          24          54400                      3                8.0   \n",
      "\n",
      "   loan_intent  loan_grade  loan_amnt  loan_int_rate  loan_status  \\\n",
      "0            4           3      35000          16.02            1   \n",
      "1            1           1       1000          11.14            0   \n",
      "2            3           2       5500          12.87            1   \n",
      "3            3           2      35000          15.23            1   \n",
      "4            3           2      35000          14.27            1   \n",
      "\n",
      "   loan_percent_income  cb_person_default_on_file  cb_person_cred_hist_length  \n",
      "0                 0.59                          1                           3  \n",
      "1                 0.10                          0                           2  \n",
      "2                 0.57                          0                           3  \n",
      "3                 0.53                          0                           2  \n",
      "4                 0.55                          1                           4  \n"
     ]
    }
   ],
   "source": [
    "# Create dictionaries to map categorical values to numbers. OR Use LabelEncoder\n",
    "# ToDo\n",
    "from sklearn.preprocessing import LabelEncoder\n",
    "\n",
    "label_encoder = LabelEncoder()\n",
    "\n",
    "for col in categorical_cols:\n",
    "    df[col] = label_encoder.fit_transform(df[col])\n",
    "\n",
    "print(\"\\nUpdated DataFrame with LabelEncoder applied:\")\n",
    "print(df.head())"
   ]
  },
  {
   "cell_type": "code",
   "execution_count": 47,
   "metadata": {
    "id": "nIOyUcffA4XC"
   },
   "outputs": [
    {
     "name": "stdout",
     "output_type": "stream",
     "text": [
      "Categorical Mappings:\n",
      "person_home_ownership: {np.int64(3): 0, np.int64(2): 1, np.int64(0): 2, np.int64(1): 3}\n",
      "loan_intent: {np.int64(4): 0, np.int64(1): 1, np.int64(3): 2, np.int64(5): 3, np.int64(2): 4, np.int64(0): 5}\n",
      "loan_grade: {np.int64(3): 0, np.int64(1): 1, np.int64(2): 2, np.int64(0): 3, np.int64(4): 4, np.int64(5): 5, np.int64(6): 6}\n",
      "cb_person_default_on_file: {np.int64(1): 0, np.int64(0): 1}\n",
      "\n",
      "Updated DataFrame with categorical columns mapped to numbers:\n",
      "   person_age  person_income  person_home_ownership  person_emp_length  \\\n",
      "0          22          59000                      0              123.0   \n",
      "1          21           9600                      1                5.0   \n",
      "2          25           9600                      2                1.0   \n",
      "3          23          65500                      0                4.0   \n",
      "4          24          54400                      0                8.0   \n",
      "\n",
      "   loan_intent  loan_grade  loan_amnt  loan_int_rate  loan_status  \\\n",
      "0            0           0      35000          16.02            1   \n",
      "1            1           1       1000          11.14            0   \n",
      "2            2           2       5500          12.87            1   \n",
      "3            2           2      35000          15.23            1   \n",
      "4            2           2      35000          14.27            1   \n",
      "\n",
      "   loan_percent_income  cb_person_default_on_file  cb_person_cred_hist_length  \n",
      "0                 0.59                          0                           3  \n",
      "1                 0.10                          1                           2  \n",
      "2                 0.57                          1                           3  \n",
      "3                 0.53                          1                           2  \n",
      "4                 0.55                          0                           4  \n"
     ]
    }
   ],
   "source": [
    "# Map categorical values to numbers using respective dictionaries\n",
    "# ToDo\n",
    "categorical_mappings = {}\n",
    "\n",
    "for col in categorical_cols:\n",
    "    categories = df[col].unique()\n",
    "    mapping = {category: idx for idx, category in enumerate(categories)}\n",
    "    categorical_mappings[col] = mapping\n",
    "    df[col] = df[col].map(mapping)\n",
    "\n",
    "print(\"Categorical Mappings:\")\n",
    "for col, mapping in categorical_mappings.items():\n",
    "    print(f\"{col}: {mapping}\")\n",
    "    \n",
    "print(\"\\nUpdated DataFrame with categorical columns mapped to numbers:\")\n",
    "print(df.head())"
   ]
  },
  {
   "cell_type": "code",
   "execution_count": 48,
   "metadata": {
    "id": "9HYik6UPBgHI"
   },
   "outputs": [
    {
     "name": "stdout",
     "output_type": "stream",
     "text": [
      "Updated DataFrame with categorical columns mapped to numbers:\n",
      "   person_age  person_income  person_home_ownership  person_emp_length  \\\n",
      "0          22          59000                      0              123.0   \n",
      "1          21           9600                      1                5.0   \n",
      "2          25           9600                      2                1.0   \n",
      "3          23          65500                      0                4.0   \n",
      "4          24          54400                      0                8.0   \n",
      "\n",
      "   loan_intent  loan_grade  loan_amnt  loan_int_rate  loan_status  \\\n",
      "0            0           0      35000          16.02            1   \n",
      "1            1           1       1000          11.14            0   \n",
      "2            2           2       5500          12.87            1   \n",
      "3            2           2      35000          15.23            1   \n",
      "4            2           2      35000          14.27            1   \n",
      "\n",
      "   loan_percent_income  cb_person_default_on_file  cb_person_cred_hist_length  \n",
      "0                 0.59                          0                           3  \n",
      "1                 0.10                          1                           2  \n",
      "2                 0.57                          1                           3  \n",
      "3                 0.53                          1                           2  \n",
      "4                 0.55                          0                           4  \n"
     ]
    }
   ],
   "source": [
    "# Display the data to observe the changes\n",
    "# ToDo\n",
    "print(\"Updated DataFrame with categorical columns mapped to numbers:\")\n",
    "print(df.head())"
   ]
  },
  {
   "cell_type": "markdown",
   "metadata": {
    "id": "Pxq2288LT3_E"
   },
   "source": [
    "#### Get/Visualize the count of each classes(defaulter or Not) to understand class distribution [1 Mark]"
   ]
  },
  {
   "cell_type": "code",
   "execution_count": 49,
   "metadata": {
    "id": "o14ic3R9Z4Dk"
   },
   "outputs": [
    {
     "name": "stdout",
     "output_type": "stream",
     "text": [
      "Class distribution (default vs. non-default):\n",
      "loan_status\n",
      "0    25473\n",
      "1     7108\n",
      "Name: count, dtype: int64\n"
     ]
    },
    {
     "name": "stderr",
     "output_type": "stream",
     "text": [
      "/tmp/ipykernel_12919/3256211327.py:14: FutureWarning: \n",
      "\n",
      "Passing `palette` without assigning `hue` is deprecated and will be removed in v0.14.0. Assign the `x` variable to `hue` and set `legend=False` for the same effect.\n",
      "\n",
      "  sns.barplot(x=class_counts.index, y=class_counts.values, palette='viridis')\n"
     ]
    },
    {
     "data": {
      "image/png": "[encoded data removed]",
      "text/plain": [
       "<Figure size 600x400 with 1 Axes>"
      ]
     },
     "metadata": {},
     "output_type": "display_data"
    }
   ],
   "source": [
    "# Calculate the class distribution\n",
    "# ToDo\n",
    "import matplotlib.pyplot as plt\n",
    "import seaborn as sns\n",
    "\n",
    "class_counts = df['loan_status'].value_counts()\n",
    "\n",
    "print(\"Class distribution (default vs. non-default):\")\n",
    "print(class_counts)\n",
    "\n",
    "# Create a bar plot\n",
    "# ToDo\n",
    "plt.figure(figsize=(6, 4))\n",
    "sns.barplot(x=class_counts.index, y=class_counts.values, palette='viridis')\n",
    "plt.title('Class Distribution of Loan Status (Default vs Non-Default)')\n",
    "plt.xlabel('Loan Status')\n",
    "plt.ylabel('Count')\n",
    "plt.xticks([0, 1], ['Non-Default (0)', 'Default (1)'])\n",
    "plt.show()"
   ]
  },
  {
   "cell_type": "markdown",
   "metadata": {
    "id": "7OmR27SC7_di"
   },
   "source": [
    "### Define target variable and features [1 Mark]"
   ]
  },
  {
   "cell_type": "code",
   "execution_count": 50,
   "metadata": {
    "id": "AX0kqWU08Bm3"
   },
   "outputs": [
    {
     "name": "stdout",
     "output_type": "stream",
     "text": [
      "Features (X):\n",
      "   person_age  person_income  person_home_ownership  person_emp_length  \\\n",
      "0          22          59000                      0              123.0   \n",
      "1          21           9600                      1                5.0   \n",
      "2          25           9600                      2                1.0   \n",
      "3          23          65500                      0                4.0   \n",
      "4          24          54400                      0                8.0   \n",
      "\n",
      "   loan_intent  loan_grade  loan_amnt  loan_int_rate  loan_percent_income  \\\n",
      "0            0           0      35000          16.02                 0.59   \n",
      "1            1           1       1000          11.14                 0.10   \n",
      "2            2           2       5500          12.87                 0.57   \n",
      "3            2           2      35000          15.23                 0.53   \n",
      "4            2           2      35000          14.27                 0.55   \n",
      "\n",
      "   cb_person_default_on_file  cb_person_cred_hist_length  \n",
      "0                          0                           3  \n",
      "1                          1                           2  \n",
      "2                          1                           3  \n",
      "3                          1                           2  \n",
      "4                          0                           4  \n",
      "\n",
      "Target variable (y):\n",
      "0    1\n",
      "1    0\n",
      "2    1\n",
      "3    1\n",
      "4    1\n",
      "Name: loan_status, dtype: int64\n"
     ]
    }
   ],
   "source": [
    "# Define features(X) and target variable(y)\n",
    "# ToDo\n",
    "y = df['loan_status']  # Target variable: loan_status (1 = Default, 0 = Non-Default)\n",
    "X = df.drop(columns=['loan_status'])  # Features: All columns except loan_status\n",
    "\n",
    "print(\"Features (X):\")\n",
    "print(X.head())\n",
    "\n",
    "print(\"\\nTarget variable (y):\")\n",
    "print(y.head())"
   ]
  },
  {
   "cell_type": "markdown",
   "metadata": {
    "id": "8Df4y8Wa8fcx"
   },
   "source": [
    "### Train-Test split [1 Mark]"
   ]
  },
  {
   "cell_type": "code",
   "execution_count": 51,
   "metadata": {
    "id": "BIP5W83aB7qz"
   },
   "outputs": [
    {
     "name": "stdout",
     "output_type": "stream",
     "text": [
      "Training set size: 26064 samples\n",
      "Testing set size: 6517 samples\n",
      "\n",
      "Class distribution in the training set:\n",
      "loan_status\n",
      "0    20378\n",
      "1     5686\n",
      "Name: count, dtype: int64\n",
      "\n",
      "Class distribution in the testing set:\n",
      "loan_status\n",
      "0    5095\n",
      "1    1422\n",
      "Name: count, dtype: int64\n"
     ]
    }
   ],
   "source": [
    "# Split the data into training and testing sets\n",
    "# Use `stratify` parameter to maintain the class distribution across the training and testing set\n",
    "# ToDo\n",
    "from sklearn.model_selection import train_test_split\n",
    "\n",
    "X_train, X_test, y_train, y_test = train_test_split(\n",
    "    X,  # Features\n",
    "    y,  # Target variable\n",
    "    test_size=0.2,  \n",
    "    random_state=42,  \n",
    "    stratify=y  \n",
    ")\n",
    "\n",
    "print(f\"Training set size: {X_train.shape[0]} samples\")\n",
    "print(f\"Testing set size: {X_test.shape[0]} samples\")\n",
    "\n",
    "print(\"\\nClass distribution in the training set:\")\n",
    "print(y_train.value_counts())\n",
    "\n",
    "print(\"\\nClass distribution in the testing set:\")\n",
    "print(y_test.value_counts())"
   ]
  },
  {
   "cell_type": "markdown",
   "metadata": {
    "id": "p6PeLYH69Ivl"
   },
   "source": [
    "### Check the class distribution in the training and test sets [1 Mark]\n",
    "\n",
    "Ensure that both sets have same target class distribution as of the original dataset"
   ]
  },
  {
   "cell_type": "code",
   "execution_count": 52,
   "metadata": {
    "id": "PnY1x6wdCN9v"
   },
   "outputs": [
    {
     "name": "stdout",
     "output_type": "stream",
     "text": [
      "Class distribution in the original dataset:\n",
      "loan_status\n",
      "0    25473\n",
      "1     7108\n",
      "Name: count, dtype: int64\n",
      "\n",
      "Class distribution in the training set:\n",
      "loan_status\n",
      "0    20378\n",
      "1     5686\n",
      "Name: count, dtype: int64\n",
      "\n",
      "Class distribution in the testing set:\n",
      "loan_status\n",
      "0    5095\n",
      "1    1422\n",
      "Name: count, dtype: int64\n",
      "\n",
      "Class percentage in the original dataset:\n",
      "loan_status\n",
      "0    78.183604\n",
      "1    21.816396\n",
      "Name: count, dtype: float64\n",
      "\n",
      "Class percentage in the training set:\n",
      "loan_status\n",
      "0    78.184469\n",
      "1    21.815531\n",
      "Name: count, dtype: float64\n",
      "\n",
      "Class percentage in the testing set:\n",
      "loan_status\n",
      "0    78.180144\n",
      "1    21.819856\n",
      "Name: count, dtype: float64\n"
     ]
    }
   ],
   "source": [
    "# Calculate the class distribution in the training set\n",
    "# ToDo\n",
    "original_class_dist = y.value_counts()\n",
    "\n",
    "train_class_dist = y_train.value_counts()\n",
    "\n",
    "test_class_dist = y_test.value_counts()\n",
    "\n",
    "print(\"Class distribution in the original dataset:\")\n",
    "print(original_class_dist)\n",
    "\n",
    "print(\"\\nClass distribution in the training set:\")\n",
    "print(train_class_dist)\n",
    "\n",
    "print(\"\\nClass distribution in the testing set:\")\n",
    "print(test_class_dist)\n",
    "\n",
    "original_class_percent = original_class_dist / original_class_dist.sum() * 100\n",
    "train_class_percent = train_class_dist / train_class_dist.sum() * 100\n",
    "test_class_percent = test_class_dist / test_class_dist.sum() * 100\n",
    "\n",
    "print(\"\\nClass percentage in the original dataset:\")\n",
    "print(original_class_percent)\n",
    "\n",
    "print(\"\\nClass percentage in the training set:\")\n",
    "print(train_class_percent)\n",
    "\n",
    "print(\"\\nClass percentage in the testing set:\")\n",
    "print(test_class_percent)"
   ]
  },
  {
   "cell_type": "code",
   "execution_count": 53,
   "metadata": {
    "id": "DODNmauICRhN"
   },
   "outputs": [
    {
     "name": "stdout",
     "output_type": "stream",
     "text": [
      "Class distribution in the testing set:\n",
      "loan_status\n",
      "0    5095\n",
      "1    1422\n",
      "Name: count, dtype: int64\n",
      "\n",
      "Class percentage in the testing set:\n",
      "loan_status\n",
      "0    78.180144\n",
      "1    21.819856\n",
      "Name: count, dtype: float64\n"
     ]
    }
   ],
   "source": [
    "# Calculate the class distribution in the testing set\n",
    "# ToDo\n",
    "test_class_dist = y_test.value_counts()\n",
    "\n",
    "print(\"Class distribution in the testing set:\")\n",
    "print(test_class_dist)\n",
    "\n",
    "test_class_percent = test_class_dist / test_class_dist.sum() * 100\n",
    "\n",
    "print(\"\\nClass percentage in the testing set:\")\n",
    "print(test_class_percent)"
   ]
  },
  {
   "cell_type": "markdown",
   "metadata": {
    "id": "KzftGwgyuoPZ"
   },
   "source": [
    "### Feature Scaling [1 Mark]"
   ]
  },
  {
   "cell_type": "code",
   "execution_count": 54,
   "metadata": {
    "id": "5makQDOYuoCX"
   },
   "outputs": [
    {
     "name": "stdout",
     "output_type": "stream",
     "text": [
      "Scaled Training Features:\n",
      "[[-4.27163107e-01  2.75966614e+00  1.13463301e+00 -1.93163191e-01\n",
      "  -8.00036745e-01  9.87128287e-01  1.02145474e+00 -1.28907697e+00\n",
      "  -9.37956133e-01  4.63610800e-01 -4.42816731e-01]\n",
      " [-1.05935771e+00 -7.54040170e-01 -9.48197908e-01  4.99747256e-02\n",
      "  -1.39664794e+00 -7.74133465e-01 -1.28166412e+00  3.78651467e-01\n",
      "  -8.44327918e-01  4.63610800e-01 -4.42816731e-01]\n",
      " [-4.27163107e-01 -2.04717017e-01  1.13463301e+00  1.26566431e+00\n",
      "  -2.03425554e-01 -7.74133465e-01  1.02145474e+00  4.92434109e-01\n",
      "   1.21549281e+00  4.63610800e-01 -9.38514340e-01]\n",
      " [ 4.69828482e-02 -7.72874106e-01  9.32175517e-02 -1.16051011e-03\n",
      "  -2.03425554e-01  1.06497411e-01 -7.25738880e-01  9.63819339e-01\n",
      "   1.21549281e+00  4.63610800e-01  5.48578487e-01]\n",
      " [-4.27163107e-01 -2.51801858e-01  1.13463301e+00 -6.79439025e-01\n",
      "   3.93185636e-01  9.87128287e-01  6.84400381e-02 -1.01274769e+00\n",
      "   2.79210659e-01  4.63610800e-01 -9.38514340e-01]]\n",
      "\n",
      "Scaled Testing Features:\n",
      "[[-0.90130906 -0.25180186 -0.94819791  0.29311264 -1.39664794 -0.77413346\n",
      "  -0.5669031   0.28437442 -0.46981506  0.4636108  -0.93851434]\n",
      " [ 0.67917746 -0.22041196 -0.94819791 -1.16571486 -1.39664794  0.98712829\n",
      "  -0.38821284 -1.14603593 -0.28255863  0.4636108   1.0442761 ]\n",
      " [ 1.46942071  2.18091496  1.13463301 -0.43630111 -0.80003674 -0.77413346\n",
      "   1.33912631 -0.20326547 -0.7506997   0.4636108   2.03567131]\n",
      " [-0.26911446  0.5329455   1.13463301  0.04997473  1.58640802 -0.77413346\n",
      "   2.29214101 -0.00820951  0.65372352  0.4636108  -0.44281673]\n",
      " [-0.74326041 -0.34063526  0.09321755 -1.16571486  0.39318564  0.10649741\n",
      "  -1.04341045  0.63872608 -0.93795613 -2.15698167 -0.69066554]]\n"
     ]
    }
   ],
   "source": [
    "# Initialize StandardScaler and transform the training and testing features\n",
    "# ToDo\n",
    "from sklearn.preprocessing import StandardScaler\n",
    "\n",
    "scaler = StandardScaler()\n",
    "\n",
    "X_train_scaled = scaler.fit_transform(X_train)\n",
    "\n",
    "X_test_scaled = scaler.transform(X_test)\n",
    "\n",
    "print(\"Scaled Training Features:\")\n",
    "print(X_train_scaled[:5])  # Display first 5 rows\n",
    "\n",
    "print(\"\\nScaled Testing Features:\")\n",
    "print(X_test_scaled[:5])"
   ]
  },
  {
   "cell_type": "markdown",
   "metadata": {
    "id": "2k_LCpMC-sTm"
   },
   "source": [
    "### Model Training [3 Mars]\n"
   ]
  },
  {
   "cell_type": "code",
   "execution_count": 55,
   "metadata": {
    "id": "C7eaY7xoCfpV"
   },
   "outputs": [
    {
     "name": "stdout",
     "output_type": "stream",
     "text": [
      "Model Coefficients: [[ 0.03287894  0.01825219 -0.40919138 -0.04069848  0.21691676 -0.07658817\n",
      "  -0.44938185  0.85835996  1.18034534 -0.07808008 -0.03017392]]\n",
      "Model Intercept: [-1.80123407]\n",
      "\n",
      "Training Accuracy: 0.8388198281154082\n"
     ]
    }
   ],
   "source": [
    "# Initialize the LogisticRegression model\n",
    "# ToDo\n",
    "from sklearn.linear_model import LogisticRegression\n",
    "\n",
    "model = LogisticRegression(random_state=42)\n",
    "\n",
    "# Fit the model with the SCALED training data\n",
    "# ToDo\n",
    "model.fit(X_train_scaled, y_train)\n",
    "\n",
    "print(\"Model Coefficients:\", model.coef_)\n",
    "print(\"Model Intercept:\", model.intercept_)\n",
    "\n",
    "train_accuracy = model.score(X_train_scaled, y_train)\n",
    "print(\"\\nTraining Accuracy:\", train_accuracy)"
   ]
  },
  {
   "cell_type": "code",
   "execution_count": 56,
   "metadata": {
    "id": "fpTthZaNu8Dp"
   },
   "outputs": [
    {
     "name": "stdout",
     "output_type": "stream",
     "text": [
      "Training Accuracy for Decision Tree: 1.0\n"
     ]
    }
   ],
   "source": [
    "# Initialize the DecisionTreeClassifier model\n",
    "# ToDo\n",
    "from sklearn.tree import DecisionTreeClassifier\n",
    "\n",
    "tree_model = DecisionTreeClassifier(random_state=42)\n",
    "\n",
    "# Fit the model with the unscaled training data (Feature Scaling is not necessary for Tree based models)\n",
    "# ToDo\n",
    "tree_model.fit(X_train, y_train)\n",
    "\n",
    "train_accuracy_tree = tree_model.score(X_train, y_train)\n",
    "print(\"Training Accuracy for Decision Tree:\", train_accuracy_tree)"
   ]
  },
  {
   "cell_type": "code",
   "execution_count": 57,
   "metadata": {
    "id": "_1mJckLsvALF"
   },
   "outputs": [
    {
     "name": "stdout",
     "output_type": "stream",
     "text": [
      "Training Accuracy for Random Forest: 0.9999232658072437\n"
     ]
    }
   ],
   "source": [
    "# Initialize the RandomForestClassifier model\n",
    "# ToDo\n",
    "from sklearn.ensemble import RandomForestClassifier\n",
    "\n",
    "rf_model = RandomForestClassifier(random_state=42)\n",
    "\n",
    "# Fit the model with the unscaled training data (Feature Scaling is not necessary for Tree based models)\n",
    "# ToDo\n",
    "rf_model.fit(X_train, y_train)\n",
    "\n",
    "train_accuracy_rf = rf_model.score(X_train, y_train)\n",
    "print(\"Training Accuracy for Random Forest:\", train_accuracy_rf)\n"
   ]
  },
  {
   "cell_type": "markdown",
   "metadata": {
    "id": "x66q1eeVFrsQ"
   },
   "source": [
    "### Model Evaluation [2 Marks]\n"
   ]
  },
  {
   "cell_type": "code",
   "execution_count": 58,
   "metadata": {
    "id": "Duog9F4ECgrG"
   },
   "outputs": [
    {
     "name": "stdout",
     "output_type": "stream",
     "text": [
      "Logistic Regression Accuracy on Test Set: 0.843486266687126\n",
      "\n",
      "Logistic Regression Classification Report:\n",
      "              precision    recall  f1-score   support\n",
      "\n",
      "           0       0.86      0.96      0.91      5095\n",
      "           1       0.74      0.44      0.55      1422\n",
      "\n",
      "    accuracy                           0.84      6517\n",
      "   macro avg       0.80      0.70      0.73      6517\n",
      "weighted avg       0.83      0.84      0.83      6517\n",
      "\n",
      "\n",
      "Decision Tree Accuracy on Test Set: 0.8830750345250882\n",
      "\n",
      "Decision Tree Classification Report:\n",
      "              precision    recall  f1-score   support\n",
      "\n",
      "           0       0.93      0.92      0.92      5095\n",
      "           1       0.72      0.77      0.74      1422\n",
      "\n",
      "    accuracy                           0.88      6517\n",
      "   macro avg       0.83      0.84      0.83      6517\n",
      "weighted avg       0.89      0.88      0.88      6517\n",
      "\n",
      "\n",
      "Random Forest Accuracy on Test Set: 0.9294153751726254\n",
      "\n",
      "Random Forest Classification Report:\n",
      "              precision    recall  f1-score   support\n",
      "\n",
      "           0       0.93      0.99      0.96      5095\n",
      "           1       0.95      0.71      0.82      1422\n",
      "\n",
      "    accuracy                           0.93      6517\n",
      "   macro avg       0.94      0.85      0.89      6517\n",
      "weighted avg       0.93      0.93      0.93      6517\n",
      "\n"
     ]
    }
   ],
   "source": [
    "# Make predictions on the test set with each of the models above\n",
    "# ToDo\n",
    "from sklearn.metrics import accuracy_score, classification_report, confusion_matrix\n",
    "\n",
    "# Predictions using Logistic Regression\n",
    "logreg_predictions = model.predict(X_test_scaled)\n",
    "logreg_accuracy = accuracy_score(y_test, logreg_predictions)\n",
    "print(\"Logistic Regression Accuracy on Test Set:\", logreg_accuracy)\n",
    "print(\"\\nLogistic Regression Classification Report:\")\n",
    "print(classification_report(y_test, logreg_predictions))\n",
    "\n",
    "# Predictions using Decision Tree Classifier\n",
    "tree_predictions = tree_model.predict(X_test)\n",
    "tree_accuracy = accuracy_score(y_test, tree_predictions)\n",
    "print(\"\\nDecision Tree Accuracy on Test Set:\", tree_accuracy)\n",
    "print(\"\\nDecision Tree Classification Report:\")\n",
    "print(classification_report(y_test, tree_predictions))\n",
    "\n",
    "# Predictions using Random Forest Classifier\n",
    "rf_predictions = rf_model.predict(X_test)\n",
    "rf_accuracy = accuracy_score(y_test, rf_predictions)\n",
    "print(\"\\nRandom Forest Accuracy on Test Set:\", rf_accuracy)\n",
    "print(\"\\nRandom Forest Classification Report:\")\n",
    "print(classification_report(y_test, rf_predictions))"
   ]
  },
  {
   "cell_type": "code",
   "execution_count": 59,
   "metadata": {
    "id": "mxjh0PjJDEw4"
   },
   "outputs": [
    {
     "name": "stdout",
     "output_type": "stream",
     "text": [
      "Logistic Regression Model Performance:\n",
      "Accuracy: 0.8435\n",
      "Classification Report:\n",
      "              precision    recall  f1-score   support\n",
      "\n",
      "           0       0.86      0.96      0.91      5095\n",
      "           1       0.74      0.44      0.55      1422\n",
      "\n",
      "    accuracy                           0.84      6517\n",
      "   macro avg       0.80      0.70      0.73      6517\n",
      "weighted avg       0.83      0.84      0.83      6517\n",
      "\n",
      "\n",
      "Decision Tree Model Performance:\n",
      "Accuracy: 0.8831\n",
      "Classification Report:\n",
      "              precision    recall  f1-score   support\n",
      "\n",
      "           0       0.93      0.92      0.92      5095\n",
      "           1       0.72      0.77      0.74      1422\n",
      "\n",
      "    accuracy                           0.88      6517\n",
      "   macro avg       0.83      0.84      0.83      6517\n",
      "weighted avg       0.89      0.88      0.88      6517\n",
      "\n",
      "\n",
      "Random Forest Model Performance:\n",
      "Accuracy: 0.9294\n",
      "Classification Report:\n",
      "              precision    recall  f1-score   support\n",
      "\n",
      "           0       0.93      0.99      0.96      5095\n",
      "           1       0.95      0.71      0.82      1422\n",
      "\n",
      "    accuracy                           0.93      6517\n",
      "   macro avg       0.94      0.85      0.89      6517\n",
      "weighted avg       0.93      0.93      0.93      6517\n",
      "\n"
     ]
    }
   ],
   "source": [
    "# Evaluate each of the model performance\n",
    "\n",
    "# Show accuracy, f1 score, precision, & recall for each of the trained models\n",
    "# ToDo\n",
    "from sklearn.metrics import classification_report, accuracy_score\n",
    "\n",
    "# Evaluate Logistic Regression model\n",
    "logreg_predictions = model.predict(X_test_scaled)\n",
    "logreg_accuracy = accuracy_score(y_test, logreg_predictions)\n",
    "logreg_class_report = classification_report(y_test, logreg_predictions)\n",
    "\n",
    "# Evaluate Decision Tree model\n",
    "tree_predictions = tree_model.predict(X_test)\n",
    "tree_accuracy = accuracy_score(y_test, tree_predictions)\n",
    "tree_class_report = classification_report(y_test, tree_predictions)\n",
    "\n",
    "# Evaluate Random Forest model\n",
    "rf_predictions = rf_model.predict(X_test)\n",
    "rf_accuracy = accuracy_score(y_test, rf_predictions)\n",
    "rf_class_report = classification_report(y_test, rf_predictions)\n",
    "\n",
    "# Displaying the performance of each model\n",
    "print(\"Logistic Regression Model Performance:\")\n",
    "print(f\"Accuracy: {logreg_accuracy:.4f}\")\n",
    "print(\"Classification Report:\")\n",
    "print(logreg_class_report)\n",
    "\n",
    "print(\"\\nDecision Tree Model Performance:\")\n",
    "print(f\"Accuracy: {tree_accuracy:.4f}\")\n",
    "print(\"Classification Report:\")\n",
    "print(tree_class_report)\n",
    "\n",
    "print(\"\\nRandom Forest Model Performance:\")\n",
    "print(f\"Accuracy: {rf_accuracy:.4f}\")\n",
    "print(\"Classification Report:\")\n",
    "print(rf_class_report)"
   ]
  },
  {
   "cell_type": "markdown",
   "metadata": {
    "id": "GjbKstBjGhQ7"
   },
   "source": [
    "### Inference [2 Marks]"
   ]
  },
  {
   "cell_type": "code",
   "execution_count": 60,
   "metadata": {
    "id": "7DqGpE39C-nC"
   },
   "outputs": [
    {
     "name": "stdout",
     "output_type": "stream",
     "text": [
      "Sample Input DataFrame:\n",
      "   person_age  person_income  person_home_ownership  person_emp_length  \\\n",
      "0          35          60000                      1                  5   \n",
      "\n",
      "   loan_intent  loan_grade  loan_amnt  loan_int_rate  loan_percent_income  \\\n",
      "0            1           3      15000           0.08                 0.25   \n",
      "\n",
      "   cb_person_default_on_file  cb_person_cred_hist_length  \n",
      "0                          0                          10  \n",
      "\n",
      "Logistic Regression Prediction: [0]\n",
      "Decision Tree Prediction: [0]\n",
      "Random Forest Prediction: [0]\n"
     ]
    },
    {
     "name": "stderr",
     "output_type": "stream",
     "text": [
      "/home/codespace/.local/lib/python3.12/site-packages/sklearn/utils/validation.py:2732: UserWarning: X has feature names, but LogisticRegression was fitted without feature names\n",
      "  warnings.warn(\n"
     ]
    }
   ],
   "source": [
    "# Create a sample input dictionary with keys as feature names and values as feature values\n",
    "# ToDo\n",
    "import pandas as pd\n",
    "\n",
    "sample_input = {\n",
    "    'person_age': [35],\n",
    "    'person_income': [60000],\n",
    "    'person_home_ownership': [1],  # Assuming 1 = 'own', 0 = 'rent', etc.\n",
    "    'person_emp_length': [5],  # 5 years of employment\n",
    "    'loan_intent': [1],  # Example intent: 1 = 'personal', 2 = 'educational', etc.\n",
    "    'loan_grade': [3],  # Example grade: 3 = 'C'\n",
    "    'loan_amnt': [15000],  # Loan amount requested\n",
    "    'loan_int_rate': [0.08],  # 8% interest rate\n",
    "    'loan_percent_income': [0.25],  # 25% of income as loan\n",
    "    'cb_person_default_on_file': [0],  # 0 = no default history\n",
    "    'cb_person_cred_hist_length': [10]  # Corrected feature name (with \"person\" and \"cred\")\n",
    "}\n",
    "\n",
    "\n",
    "\n",
    "# Convert the sample input dictionary into a dataframe to feed to the model\n",
    "# ToDo\n",
    "sample_df = pd.DataFrame(sample_input)\n",
    "\n",
    "print(\"Sample Input DataFrame:\")\n",
    "print(sample_df)\n",
    "\n",
    "# Logistic Regression Prediction\n",
    "logreg_prediction = model.predict(sample_df)\n",
    "print(\"\\nLogistic Regression Prediction:\", logreg_prediction)\n",
    "\n",
    "# Decision Tree Prediction\n",
    "tree_prediction = tree_model.predict(sample_df)\n",
    "print(\"Decision Tree Prediction:\", tree_prediction)\n",
    "\n",
    "# Random Forest Prediction\n",
    "rf_prediction = rf_model.predict(sample_df)\n",
    "print(\"Random Forest Prediction:\", rf_prediction)\n",
    "\n"
   ]
  },
  {
   "cell_type": "code",
   "execution_count": 61,
   "metadata": {
    "id": "ALyXuoeFD6_2"
   },
   "outputs": [
    {
     "name": "stdout",
     "output_type": "stream",
     "text": [
      "The borrower is predicted to NOT default on the loan.\n"
     ]
    }
   ],
   "source": [
    "# Define a simple fuction to make prediction for the sample input (use the best model among the above trained models)\n",
    "# ToDo\n",
    "import pandas as pd\n",
    "\n",
    "def make_prediction(sample_input):\n",
    "    \n",
    "    sample_df = pd.DataFrame(sample_input)\n",
    "    \n",
    "    rf_prediction = rf_model.predict(sample_df)\n",
    "    \n",
    "    return rf_prediction[0]  \n",
    "\n",
    "# Example sample input\n",
    "sample_input = {\n",
    "    'person_age': [35],\n",
    "    'person_income': [60000],\n",
    "    'person_home_ownership': [1],  # Assuming 1 = 'own', 0 = 'rent', etc.\n",
    "    'person_emp_length': [5],  # 5 years of employment\n",
    "    'loan_intent': [1],  # Example intent: 1 = 'personal', 2 = 'educational', etc.\n",
    "    'loan_grade': [3],  # Example grade: 3 = 'C'\n",
    "    'loan_amnt': [15000],  # Loan amount requested\n",
    "    'loan_int_rate': [0.08],  # 8% interest rate\n",
    "    'loan_percent_income': [0.25],  # 25% of income as loan\n",
    "    'cb_person_default_on_file': [0],  # 0 = no default history\n",
    "    'cb_person_cred_hist_length': [10]  # Corrected feature name\n",
    "}\n",
    "\n",
    "# Call the function and display the prediction\n",
    "prediction = make_prediction(sample_input)\n",
    "\n",
    "# Output the prediction result\n",
    "if prediction == 0:\n",
    "    print(\"The borrower is predicted to NOT default on the loan.\")\n",
    "else:\n",
    "    print(\"The borrower is predicted to DEFAULT on the loan.\")\n"
   ]
  },
  {
   "cell_type": "code",
   "execution_count": 62,
   "metadata": {
    "id": "SQ2PZh4YEVUb"
   },
   "outputs": [
    {
     "name": "stdout",
     "output_type": "stream",
     "text": [
      "The borrower is predicted to NOT default on the loan.\n"
     ]
    }
   ],
   "source": [
    "# Make prediction using the defined function using the sample input\n",
    "# ToDo\n",
    "import pandas as pd\n",
    "\n",
    "def make_prediction(sample_input):\n",
    "    \n",
    "    sample_df = pd.DataFrame(sample_input)\n",
    "    \n",
    "    rf_prediction = rf_model.predict(sample_df)\n",
    "    \n",
    "    return rf_prediction[0]  \n",
    "\n",
    "# Example sample input (to be predicted)\n",
    "sample_input = {\n",
    "    'person_age': [35],\n",
    "    'person_income': [60000],\n",
    "    'person_home_ownership': [1],  # Assuming 1 = 'own', 0 = 'rent', etc.\n",
    "    'person_emp_length': [5],  # 5 years of employment\n",
    "    'loan_intent': [1],  # Example intent: 1 = 'personal', 2 = 'educational', etc.\n",
    "    'loan_grade': [3],  # Example grade: 3 = 'C'\n",
    "    'loan_amnt': [15000],  # Loan amount requested\n",
    "    'loan_int_rate': [0.08],  # 8% interest rate\n",
    "    'loan_percent_income': [0.25],  # 25% of income as loan\n",
    "    'cb_person_default_on_file': [0],  # 0 = no default history\n",
    "    'cb_person_cred_hist_length': [10]  # Corrected feature name\n",
    "}\n",
    "\n",
    "# Call the function and display the prediction\n",
    "prediction = make_prediction(sample_input)\n",
    "\n",
    "# Output the prediction result\n",
    "if prediction == 0:\n",
    "    print(\"The borrower is predicted to NOT default on the loan.\")\n",
    "else:\n",
    "    print(\"The borrower is predicted to DEFAULT on the loan.\")"
   ]
  }
 ],
 "metadata": {
  "colab": {
   "provenance": []
  },
  "kernelspec": {
   "display_name": "Python 3",
   "name": "python3"
  },
  "language_info": {
   "codemirror_mode": {
    "name": "ipython",
    "version": 3
   },
   "file_extension": ".py",
   "mimetype": "text/x-python",
   "name": "python",
   "nbconvert_exporter": "python",
   "pygments_lexer": "ipython3",
   "version": "3.12.1"
  }
 },
 "nbformat": 4,
 "nbformat_minor": 0
}
